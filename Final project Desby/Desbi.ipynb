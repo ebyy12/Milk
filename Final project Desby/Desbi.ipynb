{
  "nbformat": 4,
  "nbformat_minor": 0,
  "metadata": {
    "colab": {
      "provenance": []
    },
    "kernelspec": {
      "name": "python3",
      "display_name": "Python 3"
    },
    "language_info": {
      "name": "python"
    }
  },
  "cells": [
    {
      "cell_type": "code",
      "execution_count": 1,
      "metadata": {
        "colab": {
          "base_uri": "https://localhost:8080/",
          "height": 91
        },
        "id": "ogq8DFKAgbMW",
        "outputId": "851d9312-1b57-48b3-da92-200077b11ee3"
      },
      "outputs": [
        {
          "output_type": "display_data",
          "data": {
            "text/plain": [
              "<IPython.core.display.HTML object>"
            ],
            "text/html": [
              "\n",
              "     <input type=\"file\" id=\"files-6b390638-07d8-4e26-aee9-007c3376e395\" name=\"files[]\" multiple disabled\n",
              "        style=\"border:none\" />\n",
              "     <output id=\"result-6b390638-07d8-4e26-aee9-007c3376e395\">\n",
              "      Upload widget is only available when the cell has been executed in the\n",
              "      current browser session. Please rerun this cell to enable.\n",
              "      </output>\n",
              "      <script>// Copyright 2017 Google LLC\n",
              "//\n",
              "// Licensed under the Apache License, Version 2.0 (the \"License\");\n",
              "// you may not use this file except in compliance with the License.\n",
              "// You may obtain a copy of the License at\n",
              "//\n",
              "//      http://www.apache.org/licenses/LICENSE-2.0\n",
              "//\n",
              "// Unless required by applicable law or agreed to in writing, software\n",
              "// distributed under the License is distributed on an \"AS IS\" BASIS,\n",
              "// WITHOUT WARRANTIES OR CONDITIONS OF ANY KIND, either express or implied.\n",
              "// See the License for the specific language governing permissions and\n",
              "// limitations under the License.\n",
              "\n",
              "/**\n",
              " * @fileoverview Helpers for google.colab Python module.\n",
              " */\n",
              "(function(scope) {\n",
              "function span(text, styleAttributes = {}) {\n",
              "  const element = document.createElement('span');\n",
              "  element.textContent = text;\n",
              "  for (const key of Object.keys(styleAttributes)) {\n",
              "    element.style[key] = styleAttributes[key];\n",
              "  }\n",
              "  return element;\n",
              "}\n",
              "\n",
              "// Max number of bytes which will be uploaded at a time.\n",
              "const MAX_PAYLOAD_SIZE = 100 * 1024;\n",
              "\n",
              "function _uploadFiles(inputId, outputId) {\n",
              "  const steps = uploadFilesStep(inputId, outputId);\n",
              "  const outputElement = document.getElementById(outputId);\n",
              "  // Cache steps on the outputElement to make it available for the next call\n",
              "  // to uploadFilesContinue from Python.\n",
              "  outputElement.steps = steps;\n",
              "\n",
              "  return _uploadFilesContinue(outputId);\n",
              "}\n",
              "\n",
              "// This is roughly an async generator (not supported in the browser yet),\n",
              "// where there are multiple asynchronous steps and the Python side is going\n",
              "// to poll for completion of each step.\n",
              "// This uses a Promise to block the python side on completion of each step,\n",
              "// then passes the result of the previous step as the input to the next step.\n",
              "function _uploadFilesContinue(outputId) {\n",
              "  const outputElement = document.getElementById(outputId);\n",
              "  const steps = outputElement.steps;\n",
              "\n",
              "  const next = steps.next(outputElement.lastPromiseValue);\n",
              "  return Promise.resolve(next.value.promise).then((value) => {\n",
              "    // Cache the last promise value to make it available to the next\n",
              "    // step of the generator.\n",
              "    outputElement.lastPromiseValue = value;\n",
              "    return next.value.response;\n",
              "  });\n",
              "}\n",
              "\n",
              "/**\n",
              " * Generator function which is called between each async step of the upload\n",
              " * process.\n",
              " * @param {string} inputId Element ID of the input file picker element.\n",
              " * @param {string} outputId Element ID of the output display.\n",
              " * @return {!Iterable<!Object>} Iterable of next steps.\n",
              " */\n",
              "function* uploadFilesStep(inputId, outputId) {\n",
              "  const inputElement = document.getElementById(inputId);\n",
              "  inputElement.disabled = false;\n",
              "\n",
              "  const outputElement = document.getElementById(outputId);\n",
              "  outputElement.innerHTML = '';\n",
              "\n",
              "  const pickedPromise = new Promise((resolve) => {\n",
              "    inputElement.addEventListener('change', (e) => {\n",
              "      resolve(e.target.files);\n",
              "    });\n",
              "  });\n",
              "\n",
              "  const cancel = document.createElement('button');\n",
              "  inputElement.parentElement.appendChild(cancel);\n",
              "  cancel.textContent = 'Cancel upload';\n",
              "  const cancelPromise = new Promise((resolve) => {\n",
              "    cancel.onclick = () => {\n",
              "      resolve(null);\n",
              "    };\n",
              "  });\n",
              "\n",
              "  // Wait for the user to pick the files.\n",
              "  const files = yield {\n",
              "    promise: Promise.race([pickedPromise, cancelPromise]),\n",
              "    response: {\n",
              "      action: 'starting',\n",
              "    }\n",
              "  };\n",
              "\n",
              "  cancel.remove();\n",
              "\n",
              "  // Disable the input element since further picks are not allowed.\n",
              "  inputElement.disabled = true;\n",
              "\n",
              "  if (!files) {\n",
              "    return {\n",
              "      response: {\n",
              "        action: 'complete',\n",
              "      }\n",
              "    };\n",
              "  }\n",
              "\n",
              "  for (const file of files) {\n",
              "    const li = document.createElement('li');\n",
              "    li.append(span(file.name, {fontWeight: 'bold'}));\n",
              "    li.append(span(\n",
              "        `(${file.type || 'n/a'}) - ${file.size} bytes, ` +\n",
              "        `last modified: ${\n",
              "            file.lastModifiedDate ? file.lastModifiedDate.toLocaleDateString() :\n",
              "                                    'n/a'} - `));\n",
              "    const percent = span('0% done');\n",
              "    li.appendChild(percent);\n",
              "\n",
              "    outputElement.appendChild(li);\n",
              "\n",
              "    const fileDataPromise = new Promise((resolve) => {\n",
              "      const reader = new FileReader();\n",
              "      reader.onload = (e) => {\n",
              "        resolve(e.target.result);\n",
              "      };\n",
              "      reader.readAsArrayBuffer(file);\n",
              "    });\n",
              "    // Wait for the data to be ready.\n",
              "    let fileData = yield {\n",
              "      promise: fileDataPromise,\n",
              "      response: {\n",
              "        action: 'continue',\n",
              "      }\n",
              "    };\n",
              "\n",
              "    // Use a chunked sending to avoid message size limits. See b/62115660.\n",
              "    let position = 0;\n",
              "    do {\n",
              "      const length = Math.min(fileData.byteLength - position, MAX_PAYLOAD_SIZE);\n",
              "      const chunk = new Uint8Array(fileData, position, length);\n",
              "      position += length;\n",
              "\n",
              "      const base64 = btoa(String.fromCharCode.apply(null, chunk));\n",
              "      yield {\n",
              "        response: {\n",
              "          action: 'append',\n",
              "          file: file.name,\n",
              "          data: base64,\n",
              "        },\n",
              "      };\n",
              "\n",
              "      let percentDone = fileData.byteLength === 0 ?\n",
              "          100 :\n",
              "          Math.round((position / fileData.byteLength) * 100);\n",
              "      percent.textContent = `${percentDone}% done`;\n",
              "\n",
              "    } while (position < fileData.byteLength);\n",
              "  }\n",
              "\n",
              "  // All done.\n",
              "  yield {\n",
              "    response: {\n",
              "      action: 'complete',\n",
              "    }\n",
              "  };\n",
              "}\n",
              "\n",
              "scope.google = scope.google || {};\n",
              "scope.google.colab = scope.google.colab || {};\n",
              "scope.google.colab._files = {\n",
              "  _uploadFiles,\n",
              "  _uploadFilesContinue,\n",
              "};\n",
              "})(self);\n",
              "</script> "
            ]
          },
          "metadata": {}
        },
        {
          "output_type": "stream",
          "name": "stdout",
          "text": [
            "Saving kaggle.json to kaggle.json\n"
          ]
        },
        {
          "output_type": "execute_result",
          "data": {
            "text/plain": [
              "{'kaggle.json': b'{\"username\":\"tatamehhh12\",\"key\":\"c8d80b1f04808c394c0d07efcbf077f4\"}'}"
            ]
          },
          "metadata": {},
          "execution_count": 1
        }
      ],
      "source": [
        "from google.colab import files\n",
        "files.upload()"
      ]
    },
    {
      "cell_type": "code",
      "source": [
        "!mkdir -p ~/.kaggle\n",
        "!cp kaggle.json ~/.kaggle/\n",
        "!chmod 600 ~/.kaggle/kaggle.json\n",
        "!ls ~/.kaggle"
      ],
      "metadata": {
        "colab": {
          "base_uri": "https://localhost:8080/"
        },
        "id": "pZ9TvgEFhFAZ",
        "outputId": "a464010c-1c42-4c45-c4a7-0c5322f31132"
      },
      "execution_count": 2,
      "outputs": [
        {
          "output_type": "stream",
          "name": "stdout",
          "text": [
            "kaggle.json\n"
          ]
        }
      ]
    },
    {
      "cell_type": "code",
      "source": [
        "!kaggle datasets download -d cpluzshrijayan/milkquality"
      ],
      "metadata": {
        "colab": {
          "base_uri": "https://localhost:8080/"
        },
        "id": "kiaNPEyUhJ4p",
        "outputId": "24db6304-e8e2-4a27-d636-a57e555d1435"
      },
      "execution_count": 3,
      "outputs": [
        {
          "output_type": "stream",
          "name": "stdout",
          "text": [
            "Dataset URL: https://www.kaggle.com/datasets/cpluzshrijayan/milkquality\n",
            "License(s): unknown\n",
            "Downloading milkquality.zip to /content\n",
            "  0% 0.00/1.24k [00:00<?, ?B/s]\n",
            "100% 1.24k/1.24k [00:00<00:00, 3.02MB/s]\n"
          ]
        }
      ]
    },
    {
      "cell_type": "code",
      "source": [
        "!unzip milkquality.zip -d milkquality\n",
        "!ls milkquality"
      ],
      "metadata": {
        "colab": {
          "base_uri": "https://localhost:8080/"
        },
        "id": "6Q59nbI5hR3R",
        "outputId": "2e75d881-2666-4cdd-e6a4-3ab4ee279e5e"
      },
      "execution_count": 4,
      "outputs": [
        {
          "output_type": "stream",
          "name": "stdout",
          "text": [
            "Archive:  milkquality.zip\n",
            "  inflating: milkquality/milknew.csv  \n",
            "milknew.csv\n"
          ]
        }
      ]
    },
    {
      "cell_type": "code",
      "source": [
        "import numpy as np\n",
        "import pandas as pd\n",
        "import plotly.express as px\n",
        "import matplotlib.pyplot as plt\n",
        "\n",
        "\n",
        "from sklearn import preprocessing\n",
        "from sklearn.preprocessing import StandardScaler\n",
        "from sklearn.model_selection import train_test_split\n",
        "from sklearn.metrics import precision_score, recall_score, confusion_matrix, classification_report, accuracy_score, f1_score\n",
        "\n",
        "import seaborn as sns\n",
        "from keras.layers import Dense, BatchNormalization, Dropout, LSTM\n",
        "from keras.models import Sequential\n",
        "from keras.utils import to_categorical\n",
        "from keras import callbacks\n",
        "from tensorflow import keras\n",
        "\n",
        "import tensorflow as tf\n",
        "from tensorflow.keras.optimizers import Adam"
      ],
      "metadata": {
        "id": "lqyRzm9pheXV"
      },
      "execution_count": 36,
      "outputs": []
    },
    {
      "cell_type": "code",
      "source": [
        "df = pd.read_csv(\"/content/milkquality/milknew.csv\")"
      ],
      "metadata": {
        "id": "Gi3kV3aUhiW6"
      },
      "execution_count": 37,
      "outputs": []
    },
    {
      "cell_type": "code",
      "source": [
        "df.head()"
      ],
      "metadata": {
        "colab": {
          "base_uri": "https://localhost:8080/",
          "height": 206
        },
        "id": "B-EuibIJhnNr",
        "outputId": "ee8382c0-5050-4116-849b-5fb8d03e6e64"
      },
      "execution_count": 38,
      "outputs": [
        {
          "output_type": "execute_result",
          "data": {
            "text/plain": [
              "    pH  Temprature  Taste  Odor  Fat   Turbidity  Colour   Grade\n",
              "0  6.6          35      1     0     1          0     254    high\n",
              "1  6.6          36      0     1     0          1     253    high\n",
              "2  8.5          70      1     1     1          1     246     low\n",
              "3  9.5          34      1     1     0          1     255     low\n",
              "4  6.6          37      0     0     0          0     255  medium"
            ],
            "text/html": [
              "\n",
              "  <div id=\"df-ef7c54ec-9876-4cc5-a0d2-b1e78c0030b7\" class=\"colab-df-container\">\n",
              "    <div>\n",
              "<style scoped>\n",
              "    .dataframe tbody tr th:only-of-type {\n",
              "        vertical-align: middle;\n",
              "    }\n",
              "\n",
              "    .dataframe tbody tr th {\n",
              "        vertical-align: top;\n",
              "    }\n",
              "\n",
              "    .dataframe thead th {\n",
              "        text-align: right;\n",
              "    }\n",
              "</style>\n",
              "<table border=\"1\" class=\"dataframe\">\n",
              "  <thead>\n",
              "    <tr style=\"text-align: right;\">\n",
              "      <th></th>\n",
              "      <th>pH</th>\n",
              "      <th>Temprature</th>\n",
              "      <th>Taste</th>\n",
              "      <th>Odor</th>\n",
              "      <th>Fat</th>\n",
              "      <th>Turbidity</th>\n",
              "      <th>Colour</th>\n",
              "      <th>Grade</th>\n",
              "    </tr>\n",
              "  </thead>\n",
              "  <tbody>\n",
              "    <tr>\n",
              "      <th>0</th>\n",
              "      <td>6.6</td>\n",
              "      <td>35</td>\n",
              "      <td>1</td>\n",
              "      <td>0</td>\n",
              "      <td>1</td>\n",
              "      <td>0</td>\n",
              "      <td>254</td>\n",
              "      <td>high</td>\n",
              "    </tr>\n",
              "    <tr>\n",
              "      <th>1</th>\n",
              "      <td>6.6</td>\n",
              "      <td>36</td>\n",
              "      <td>0</td>\n",
              "      <td>1</td>\n",
              "      <td>0</td>\n",
              "      <td>1</td>\n",
              "      <td>253</td>\n",
              "      <td>high</td>\n",
              "    </tr>\n",
              "    <tr>\n",
              "      <th>2</th>\n",
              "      <td>8.5</td>\n",
              "      <td>70</td>\n",
              "      <td>1</td>\n",
              "      <td>1</td>\n",
              "      <td>1</td>\n",
              "      <td>1</td>\n",
              "      <td>246</td>\n",
              "      <td>low</td>\n",
              "    </tr>\n",
              "    <tr>\n",
              "      <th>3</th>\n",
              "      <td>9.5</td>\n",
              "      <td>34</td>\n",
              "      <td>1</td>\n",
              "      <td>1</td>\n",
              "      <td>0</td>\n",
              "      <td>1</td>\n",
              "      <td>255</td>\n",
              "      <td>low</td>\n",
              "    </tr>\n",
              "    <tr>\n",
              "      <th>4</th>\n",
              "      <td>6.6</td>\n",
              "      <td>37</td>\n",
              "      <td>0</td>\n",
              "      <td>0</td>\n",
              "      <td>0</td>\n",
              "      <td>0</td>\n",
              "      <td>255</td>\n",
              "      <td>medium</td>\n",
              "    </tr>\n",
              "  </tbody>\n",
              "</table>\n",
              "</div>\n",
              "    <div class=\"colab-df-buttons\">\n",
              "\n",
              "  <div class=\"colab-df-container\">\n",
              "    <button class=\"colab-df-convert\" onclick=\"convertToInteractive('df-ef7c54ec-9876-4cc5-a0d2-b1e78c0030b7')\"\n",
              "            title=\"Convert this dataframe to an interactive table.\"\n",
              "            style=\"display:none;\">\n",
              "\n",
              "  <svg xmlns=\"http://www.w3.org/2000/svg\" height=\"24px\" viewBox=\"0 -960 960 960\">\n",
              "    <path d=\"M120-120v-720h720v720H120Zm60-500h600v-160H180v160Zm220 220h160v-160H400v160Zm0 220h160v-160H400v160ZM180-400h160v-160H180v160Zm440 0h160v-160H620v160ZM180-180h160v-160H180v160Zm440 0h160v-160H620v160Z\"/>\n",
              "  </svg>\n",
              "    </button>\n",
              "\n",
              "  <style>\n",
              "    .colab-df-container {\n",
              "      display:flex;\n",
              "      gap: 12px;\n",
              "    }\n",
              "\n",
              "    .colab-df-convert {\n",
              "      background-color: #E8F0FE;\n",
              "      border: none;\n",
              "      border-radius: 50%;\n",
              "      cursor: pointer;\n",
              "      display: none;\n",
              "      fill: #1967D2;\n",
              "      height: 32px;\n",
              "      padding: 0 0 0 0;\n",
              "      width: 32px;\n",
              "    }\n",
              "\n",
              "    .colab-df-convert:hover {\n",
              "      background-color: #E2EBFA;\n",
              "      box-shadow: 0px 1px 2px rgba(60, 64, 67, 0.3), 0px 1px 3px 1px rgba(60, 64, 67, 0.15);\n",
              "      fill: #174EA6;\n",
              "    }\n",
              "\n",
              "    .colab-df-buttons div {\n",
              "      margin-bottom: 4px;\n",
              "    }\n",
              "\n",
              "    [theme=dark] .colab-df-convert {\n",
              "      background-color: #3B4455;\n",
              "      fill: #D2E3FC;\n",
              "    }\n",
              "\n",
              "    [theme=dark] .colab-df-convert:hover {\n",
              "      background-color: #434B5C;\n",
              "      box-shadow: 0px 1px 3px 1px rgba(0, 0, 0, 0.15);\n",
              "      filter: drop-shadow(0px 1px 2px rgba(0, 0, 0, 0.3));\n",
              "      fill: #FFFFFF;\n",
              "    }\n",
              "  </style>\n",
              "\n",
              "    <script>\n",
              "      const buttonEl =\n",
              "        document.querySelector('#df-ef7c54ec-9876-4cc5-a0d2-b1e78c0030b7 button.colab-df-convert');\n",
              "      buttonEl.style.display =\n",
              "        google.colab.kernel.accessAllowed ? 'block' : 'none';\n",
              "\n",
              "      async function convertToInteractive(key) {\n",
              "        const element = document.querySelector('#df-ef7c54ec-9876-4cc5-a0d2-b1e78c0030b7');\n",
              "        const dataTable =\n",
              "          await google.colab.kernel.invokeFunction('convertToInteractive',\n",
              "                                                    [key], {});\n",
              "        if (!dataTable) return;\n",
              "\n",
              "        const docLinkHtml = 'Like what you see? Visit the ' +\n",
              "          '<a target=\"_blank\" href=https://colab.research.google.com/notebooks/data_table.ipynb>data table notebook</a>'\n",
              "          + ' to learn more about interactive tables.';\n",
              "        element.innerHTML = '';\n",
              "        dataTable['output_type'] = 'display_data';\n",
              "        await google.colab.output.renderOutput(dataTable, element);\n",
              "        const docLink = document.createElement('div');\n",
              "        docLink.innerHTML = docLinkHtml;\n",
              "        element.appendChild(docLink);\n",
              "      }\n",
              "    </script>\n",
              "  </div>\n",
              "\n",
              "\n",
              "<div id=\"df-618947e9-04b9-4cea-95da-4c93c55c64ee\">\n",
              "  <button class=\"colab-df-quickchart\" onclick=\"quickchart('df-618947e9-04b9-4cea-95da-4c93c55c64ee')\"\n",
              "            title=\"Suggest charts\"\n",
              "            style=\"display:none;\">\n",
              "\n",
              "<svg xmlns=\"http://www.w3.org/2000/svg\" height=\"24px\"viewBox=\"0 0 24 24\"\n",
              "     width=\"24px\">\n",
              "    <g>\n",
              "        <path d=\"M19 3H5c-1.1 0-2 .9-2 2v14c0 1.1.9 2 2 2h14c1.1 0 2-.9 2-2V5c0-1.1-.9-2-2-2zM9 17H7v-7h2v7zm4 0h-2V7h2v10zm4 0h-2v-4h2v4z\"/>\n",
              "    </g>\n",
              "</svg>\n",
              "  </button>\n",
              "\n",
              "<style>\n",
              "  .colab-df-quickchart {\n",
              "      --bg-color: #E8F0FE;\n",
              "      --fill-color: #1967D2;\n",
              "      --hover-bg-color: #E2EBFA;\n",
              "      --hover-fill-color: #174EA6;\n",
              "      --disabled-fill-color: #AAA;\n",
              "      --disabled-bg-color: #DDD;\n",
              "  }\n",
              "\n",
              "  [theme=dark] .colab-df-quickchart {\n",
              "      --bg-color: #3B4455;\n",
              "      --fill-color: #D2E3FC;\n",
              "      --hover-bg-color: #434B5C;\n",
              "      --hover-fill-color: #FFFFFF;\n",
              "      --disabled-bg-color: #3B4455;\n",
              "      --disabled-fill-color: #666;\n",
              "  }\n",
              "\n",
              "  .colab-df-quickchart {\n",
              "    background-color: var(--bg-color);\n",
              "    border: none;\n",
              "    border-radius: 50%;\n",
              "    cursor: pointer;\n",
              "    display: none;\n",
              "    fill: var(--fill-color);\n",
              "    height: 32px;\n",
              "    padding: 0;\n",
              "    width: 32px;\n",
              "  }\n",
              "\n",
              "  .colab-df-quickchart:hover {\n",
              "    background-color: var(--hover-bg-color);\n",
              "    box-shadow: 0 1px 2px rgba(60, 64, 67, 0.3), 0 1px 3px 1px rgba(60, 64, 67, 0.15);\n",
              "    fill: var(--button-hover-fill-color);\n",
              "  }\n",
              "\n",
              "  .colab-df-quickchart-complete:disabled,\n",
              "  .colab-df-quickchart-complete:disabled:hover {\n",
              "    background-color: var(--disabled-bg-color);\n",
              "    fill: var(--disabled-fill-color);\n",
              "    box-shadow: none;\n",
              "  }\n",
              "\n",
              "  .colab-df-spinner {\n",
              "    border: 2px solid var(--fill-color);\n",
              "    border-color: transparent;\n",
              "    border-bottom-color: var(--fill-color);\n",
              "    animation:\n",
              "      spin 1s steps(1) infinite;\n",
              "  }\n",
              "\n",
              "  @keyframes spin {\n",
              "    0% {\n",
              "      border-color: transparent;\n",
              "      border-bottom-color: var(--fill-color);\n",
              "      border-left-color: var(--fill-color);\n",
              "    }\n",
              "    20% {\n",
              "      border-color: transparent;\n",
              "      border-left-color: var(--fill-color);\n",
              "      border-top-color: var(--fill-color);\n",
              "    }\n",
              "    30% {\n",
              "      border-color: transparent;\n",
              "      border-left-color: var(--fill-color);\n",
              "      border-top-color: var(--fill-color);\n",
              "      border-right-color: var(--fill-color);\n",
              "    }\n",
              "    40% {\n",
              "      border-color: transparent;\n",
              "      border-right-color: var(--fill-color);\n",
              "      border-top-color: var(--fill-color);\n",
              "    }\n",
              "    60% {\n",
              "      border-color: transparent;\n",
              "      border-right-color: var(--fill-color);\n",
              "    }\n",
              "    80% {\n",
              "      border-color: transparent;\n",
              "      border-right-color: var(--fill-color);\n",
              "      border-bottom-color: var(--fill-color);\n",
              "    }\n",
              "    90% {\n",
              "      border-color: transparent;\n",
              "      border-bottom-color: var(--fill-color);\n",
              "    }\n",
              "  }\n",
              "</style>\n",
              "\n",
              "  <script>\n",
              "    async function quickchart(key) {\n",
              "      const quickchartButtonEl =\n",
              "        document.querySelector('#' + key + ' button');\n",
              "      quickchartButtonEl.disabled = true;  // To prevent multiple clicks.\n",
              "      quickchartButtonEl.classList.add('colab-df-spinner');\n",
              "      try {\n",
              "        const charts = await google.colab.kernel.invokeFunction(\n",
              "            'suggestCharts', [key], {});\n",
              "      } catch (error) {\n",
              "        console.error('Error during call to suggestCharts:', error);\n",
              "      }\n",
              "      quickchartButtonEl.classList.remove('colab-df-spinner');\n",
              "      quickchartButtonEl.classList.add('colab-df-quickchart-complete');\n",
              "    }\n",
              "    (() => {\n",
              "      let quickchartButtonEl =\n",
              "        document.querySelector('#df-618947e9-04b9-4cea-95da-4c93c55c64ee button');\n",
              "      quickchartButtonEl.style.display =\n",
              "        google.colab.kernel.accessAllowed ? 'block' : 'none';\n",
              "    })();\n",
              "  </script>\n",
              "</div>\n",
              "\n",
              "    </div>\n",
              "  </div>\n"
            ],
            "application/vnd.google.colaboratory.intrinsic+json": {
              "type": "dataframe",
              "variable_name": "df",
              "summary": "{\n  \"name\": \"df\",\n  \"rows\": 1059,\n  \"fields\": [\n    {\n      \"column\": \"pH\",\n      \"properties\": {\n        \"dtype\": \"number\",\n        \"std\": 1.3996789680672697,\n        \"min\": 3.0,\n        \"max\": 9.5,\n        \"num_unique_values\": 16,\n        \"samples\": [\n          6.6,\n          8.5,\n          8.1\n        ],\n        \"semantic_type\": \"\",\n        \"description\": \"\"\n      }\n    },\n    {\n      \"column\": \"Temprature\",\n      \"properties\": {\n        \"dtype\": \"number\",\n        \"std\": 10,\n        \"min\": 34,\n        \"max\": 90,\n        \"num_unique_values\": 17,\n        \"samples\": [\n          35,\n          36,\n          45\n        ],\n        \"semantic_type\": \"\",\n        \"description\": \"\"\n      }\n    },\n    {\n      \"column\": \"Taste\",\n      \"properties\": {\n        \"dtype\": \"number\",\n        \"std\": 0,\n        \"min\": 0,\n        \"max\": 1,\n        \"num_unique_values\": 2,\n        \"samples\": [\n          0,\n          1\n        ],\n        \"semantic_type\": \"\",\n        \"description\": \"\"\n      }\n    },\n    {\n      \"column\": \"Odor\",\n      \"properties\": {\n        \"dtype\": \"number\",\n        \"std\": 0,\n        \"min\": 0,\n        \"max\": 1,\n        \"num_unique_values\": 2,\n        \"samples\": [\n          1,\n          0\n        ],\n        \"semantic_type\": \"\",\n        \"description\": \"\"\n      }\n    },\n    {\n      \"column\": \"Fat \",\n      \"properties\": {\n        \"dtype\": \"number\",\n        \"std\": 0,\n        \"min\": 0,\n        \"max\": 1,\n        \"num_unique_values\": 2,\n        \"samples\": [\n          0,\n          1\n        ],\n        \"semantic_type\": \"\",\n        \"description\": \"\"\n      }\n    },\n    {\n      \"column\": \"Turbidity\",\n      \"properties\": {\n        \"dtype\": \"number\",\n        \"std\": 0,\n        \"min\": 0,\n        \"max\": 1,\n        \"num_unique_values\": 2,\n        \"samples\": [\n          1,\n          0\n        ],\n        \"semantic_type\": \"\",\n        \"description\": \"\"\n      }\n    },\n    {\n      \"column\": \"Colour\",\n      \"properties\": {\n        \"dtype\": \"number\",\n        \"std\": 4,\n        \"min\": 240,\n        \"max\": 255,\n        \"num_unique_values\": 9,\n        \"samples\": [\n          240,\n          253\n        ],\n        \"semantic_type\": \"\",\n        \"description\": \"\"\n      }\n    },\n    {\n      \"column\": \"Grade\",\n      \"properties\": {\n        \"dtype\": \"category\",\n        \"num_unique_values\": 3,\n        \"samples\": [\n          \"high\",\n          \"low\"\n        ],\n        \"semantic_type\": \"\",\n        \"description\": \"\"\n      }\n    }\n  ]\n}"
            }
          },
          "metadata": {},
          "execution_count": 38
        }
      ]
    },
    {
      "cell_type": "code",
      "source": [
        "df.info()"
      ],
      "metadata": {
        "colab": {
          "base_uri": "https://localhost:8080/"
        },
        "id": "lycex5HFhrT9",
        "outputId": "8882251e-e986-467c-853e-75b00eae76b0"
      },
      "execution_count": 39,
      "outputs": [
        {
          "output_type": "stream",
          "name": "stdout",
          "text": [
            "<class 'pandas.core.frame.DataFrame'>\n",
            "RangeIndex: 1059 entries, 0 to 1058\n",
            "Data columns (total 8 columns):\n",
            " #   Column      Non-Null Count  Dtype  \n",
            "---  ------      --------------  -----  \n",
            " 0   pH          1059 non-null   float64\n",
            " 1   Temprature  1059 non-null   int64  \n",
            " 2   Taste       1059 non-null   int64  \n",
            " 3   Odor        1059 non-null   int64  \n",
            " 4   Fat         1059 non-null   int64  \n",
            " 5   Turbidity   1059 non-null   int64  \n",
            " 6   Colour      1059 non-null   int64  \n",
            " 7   Grade       1059 non-null   object \n",
            "dtypes: float64(1), int64(6), object(1)\n",
            "memory usage: 66.3+ KB\n"
          ]
        }
      ]
    },
    {
      "cell_type": "code",
      "source": [
        "fig = px.histogram(df, x='Grade')\n",
        "\n",
        "fig.update_layout(title_text='<b>Milky</b>', title_x=0.5)\n",
        "\n",
        "fig.show()"
      ],
      "metadata": {
        "colab": {
          "base_uri": "https://localhost:8080/",
          "height": 542
        },
        "id": "3Uh8Vdr5htxZ",
        "outputId": "9e70f41c-ba8e-432c-bd50-c383a6628ac9"
      },
      "execution_count": 40,
      "outputs": [
        {
          "output_type": "display_data",
          "data": {
            "text/html": [
              "<html>\n",
              "<head><meta charset=\"utf-8\" /></head>\n",
              "<body>\n",
              "    <div>            <script src=\"https://cdnjs.cloudflare.com/ajax/libs/mathjax/2.7.5/MathJax.js?config=TeX-AMS-MML_SVG\"></script><script type=\"text/javascript\">if (window.MathJax && window.MathJax.Hub && window.MathJax.Hub.Config) {window.MathJax.Hub.Config({SVG: {font: \"STIX-Web\"}});}</script>                <script type=\"text/javascript\">window.PlotlyConfig = {MathJaxConfig: 'local'};</script>\n",
              "        <script charset=\"utf-8\" src=\"https://cdn.plot.ly/plotly-2.24.1.min.js\"></script>                <div id=\"9e663e51-50b1-44fe-b89b-0027072411b7\" class=\"plotly-graph-div\" style=\"height:525px; width:100%;\"></div>            <script type=\"text/javascript\">                                    window.PLOTLYENV=window.PLOTLYENV || {};                                    if (document.getElementById(\"9e663e51-50b1-44fe-b89b-0027072411b7\")) {                    Plotly.newPlot(                        \"9e663e51-50b1-44fe-b89b-0027072411b7\",                        [{\"alignmentgroup\":\"True\",\"bingroup\":\"x\",\"hovertemplate\":\"Grade=%{x}\\u003cbr\\u003ecount=%{y}\\u003cextra\\u003e\\u003c\\u002fextra\\u003e\",\"legendgroup\":\"\",\"marker\":{\"color\":\"#636efa\",\"pattern\":{\"shape\":\"\"}},\"name\":\"\",\"offsetgroup\":\"\",\"orientation\":\"v\",\"showlegend\":false,\"x\":[\"high\",\"high\",\"low\",\"low\",\"medium\",\"high\",\"low\",\"low\",\"low\",\"medium\",\"medium\",\"low\",\"low\",\"low\",\"high\",\"medium\",\"low\",\"low\",\"low\",\"medium\",\"high\",\"medium\",\"low\",\"high\",\"medium\",\"high\",\"low\",\"medium\",\"medium\",\"high\",\"medium\",\"low\",\"high\",\"medium\",\"low\",\"high\",\"low\",\"low\",\"medium\",\"high\",\"medium\",\"low\",\"low\",\"high\",\"medium\",\"medium\",\"medium\",\"high\",\"low\",\"medium\",\"high\",\"low\",\"low\",\"low\",\"medium\",\"medium\",\"low\",\"low\",\"low\",\"medium\",\"medium\",\"high\",\"low\",\"low\",\"low\",\"medium\",\"high\",\"medium\",\"low\",\"low\",\"low\",\"medium\",\"high\",\"medium\",\"low\",\"high\",\"medium\",\"high\",\"low\",\"medium\",\"medium\",\"high\",\"medium\",\"low\",\"medium\",\"high\",\"medium\",\"low\",\"low\",\"high\",\"low\",\"medium\",\"low\",\"high\",\"low\",\"medium\",\"low\",\"medium\",\"high\",\"low\",\"low\",\"low\",\"medium\",\"medium\",\"low\",\"high\",\"low\",\"low\",\"medium\",\"high\",\"low\",\"high\",\"low\",\"medium\",\"high\",\"medium\",\"high\",\"low\",\"low\",\"medium\",\"medium\",\"medium\",\"medium\",\"high\",\"low\",\"high\",\"low\",\"medium\",\"high\",\"medium\",\"low\",\"high\",\"medium\",\"high\",\"low\",\"medium\",\"medium\",\"high\",\"medium\",\"low\",\"medium\",\"high\",\"medium\",\"low\",\"low\",\"high\",\"low\",\"medium\",\"low\",\"high\",\"low\",\"medium\",\"low\",\"medium\",\"high\",\"low\",\"low\",\"low\",\"medium\",\"medium\",\"low\",\"high\",\"low\",\"low\",\"medium\",\"medium\",\"low\",\"high\",\"low\",\"low\",\"medium\",\"high\",\"medium\",\"low\",\"low\",\"high\",\"medium\",\"medium\",\"medium\",\"high\",\"low\",\"medium\",\"high\",\"low\",\"low\",\"low\",\"medium\",\"medium\",\"low\",\"low\",\"low\",\"medium\",\"medium\",\"high\",\"low\",\"low\",\"low\",\"medium\",\"high\",\"medium\",\"low\",\"low\",\"low\",\"medium\",\"medium\",\"high\",\"low\",\"low\",\"low\",\"medium\",\"medium\",\"low\",\"low\",\"low\",\"medium\",\"medium\",\"high\",\"low\",\"low\",\"low\",\"medium\",\"high\",\"medium\",\"low\",\"low\",\"low\",\"medium\",\"high\",\"medium\",\"low\",\"high\",\"medium\",\"high\",\"low\",\"medium\",\"medium\",\"high\",\"medium\",\"low\",\"medium\",\"high\",\"medium\",\"low\",\"low\",\"medium\",\"high\",\"low\",\"high\",\"low\",\"medium\",\"high\",\"medium\",\"high\",\"low\",\"low\",\"medium\",\"medium\",\"medium\",\"medium\",\"high\",\"low\",\"high\",\"low\",\"medium\",\"high\",\"medium\",\"low\",\"high\",\"medium\",\"high\",\"low\",\"medium\",\"low\",\"high\",\"low\",\"medium\",\"low\",\"high\",\"low\",\"medium\",\"low\",\"medium\",\"high\",\"low\",\"low\",\"low\",\"medium\",\"medium\",\"low\",\"high\",\"low\",\"low\",\"medium\",\"medium\",\"low\",\"high\",\"low\",\"low\",\"medium\",\"high\",\"medium\",\"low\",\"low\",\"high\",\"medium\",\"medium\",\"medium\",\"high\",\"low\",\"medium\",\"high\",\"low\",\"low\",\"low\",\"medium\",\"medium\",\"low\",\"low\",\"low\",\"medium\",\"medium\",\"high\",\"low\",\"low\",\"low\",\"medium\",\"high\",\"medium\",\"low\",\"low\",\"low\",\"medium\",\"medium\",\"high\",\"low\",\"low\",\"low\",\"medium\",\"medium\",\"low\",\"low\",\"low\",\"medium\",\"medium\",\"high\",\"low\",\"low\",\"low\",\"medium\",\"high\",\"medium\",\"low\",\"low\",\"low\",\"medium\",\"high\",\"medium\",\"low\",\"high\",\"medium\",\"high\",\"low\",\"medium\",\"medium\",\"high\",\"medium\",\"low\",\"medium\",\"high\",\"medium\",\"low\",\"low\",\"medium\",\"high\",\"low\",\"high\",\"low\",\"medium\",\"high\",\"medium\",\"high\",\"low\",\"low\",\"medium\",\"medium\",\"medium\",\"high\",\"medium\",\"low\",\"low\",\"low\",\"medium\",\"high\",\"medium\",\"low\",\"high\",\"medium\",\"high\",\"low\",\"medium\",\"medium\",\"high\",\"medium\",\"low\",\"medium\",\"high\",\"medium\",\"low\",\"low\",\"high\",\"low\",\"medium\",\"low\",\"high\",\"low\",\"medium\",\"low\",\"medium\",\"high\",\"low\",\"low\",\"low\",\"medium\",\"medium\",\"low\",\"high\",\"low\",\"low\",\"medium\",\"high\",\"low\",\"high\",\"low\",\"medium\",\"high\",\"medium\",\"high\",\"low\",\"low\",\"medium\",\"medium\",\"medium\",\"medium\",\"high\",\"low\",\"high\",\"low\",\"medium\",\"high\",\"medium\",\"low\",\"high\",\"medium\",\"high\",\"low\",\"low\",\"high\",\"low\",\"medium\",\"low\",\"medium\",\"high\",\"low\",\"low\",\"low\",\"medium\",\"medium\",\"low\",\"high\",\"low\",\"low\",\"medium\",\"high\",\"low\",\"high\",\"low\",\"medium\",\"high\",\"medium\",\"high\",\"low\",\"low\",\"medium\",\"medium\",\"medium\",\"medium\",\"high\",\"low\",\"high\",\"low\",\"medium\",\"high\",\"medium\",\"low\",\"high\",\"medium\",\"high\",\"low\",\"medium\",\"medium\",\"high\",\"medium\",\"low\",\"medium\",\"high\",\"medium\",\"low\",\"low\",\"high\",\"low\",\"medium\",\"low\",\"high\",\"low\",\"medium\",\"low\",\"medium\",\"high\",\"low\",\"low\",\"low\",\"medium\",\"medium\",\"low\",\"high\",\"low\",\"low\",\"medium\",\"medium\",\"low\",\"high\",\"medium\",\"low\",\"medium\",\"high\",\"medium\",\"low\",\"low\",\"high\",\"low\",\"medium\",\"medium\",\"high\",\"low\",\"medium\",\"high\",\"low\",\"medium\",\"low\",\"medium\",\"high\",\"low\",\"high\",\"low\",\"low\",\"high\",\"medium\",\"low\",\"low\",\"low\",\"medium\",\"high\",\"medium\",\"low\",\"high\",\"low\",\"high\",\"low\",\"medium\",\"medium\",\"high\",\"medium\",\"low\",\"medium\",\"high\",\"medium\",\"high\",\"low\",\"medium\",\"high\",\"low\",\"high\",\"medium\",\"high\",\"medium\",\"low\",\"low\",\"high\",\"low\",\"medium\",\"low\",\"high\",\"low\",\"medium\",\"low\",\"medium\",\"high\",\"low\",\"low\",\"low\",\"medium\",\"medium\",\"low\",\"high\",\"low\",\"low\",\"medium\",\"medium\",\"low\",\"high\",\"medium\",\"low\",\"medium\",\"high\",\"medium\",\"low\",\"low\",\"high\",\"low\",\"medium\",\"medium\",\"high\",\"low\",\"medium\",\"high\",\"low\",\"medium\",\"low\",\"medium\",\"high\",\"low\",\"high\",\"low\",\"low\",\"high\",\"medium\",\"low\",\"low\",\"low\",\"medium\",\"high\",\"medium\",\"low\",\"high\",\"low\",\"high\",\"low\",\"medium\",\"medium\",\"high\",\"medium\",\"low\",\"medium\",\"high\",\"medium\",\"high\",\"low\",\"low\",\"low\",\"medium\",\"high\",\"medium\",\"low\",\"low\",\"low\",\"medium\",\"medium\",\"high\",\"low\",\"low\",\"low\",\"medium\",\"medium\",\"low\",\"low\",\"low\",\"medium\",\"medium\",\"high\",\"low\",\"low\",\"low\",\"medium\",\"high\",\"medium\",\"low\",\"low\",\"low\",\"medium\",\"high\",\"medium\",\"low\",\"high\",\"medium\",\"high\",\"low\",\"medium\",\"medium\",\"high\",\"medium\",\"low\",\"medium\",\"high\",\"medium\",\"low\",\"low\",\"medium\",\"high\",\"low\",\"high\",\"low\",\"medium\",\"high\",\"medium\",\"high\",\"low\",\"low\",\"medium\",\"medium\",\"medium\",\"high\",\"medium\",\"low\",\"low\",\"low\",\"medium\",\"high\",\"medium\",\"low\",\"high\",\"low\",\"low\",\"low\",\"medium\",\"medium\",\"low\",\"high\",\"low\",\"low\",\"medium\",\"medium\",\"low\",\"high\",\"low\",\"low\",\"medium\",\"high\",\"medium\",\"low\",\"low\",\"high\",\"medium\",\"medium\",\"medium\",\"high\",\"low\",\"medium\",\"high\",\"low\",\"low\",\"low\",\"medium\",\"medium\",\"low\",\"low\",\"low\",\"medium\",\"medium\",\"high\",\"low\",\"low\",\"low\",\"medium\",\"high\",\"medium\",\"low\",\"low\",\"low\",\"medium\",\"medium\",\"high\",\"low\",\"low\",\"low\",\"medium\",\"medium\",\"low\",\"low\",\"low\",\"medium\",\"medium\",\"high\",\"low\",\"low\",\"low\",\"medium\",\"high\",\"medium\",\"low\",\"low\",\"low\",\"medium\",\"high\",\"medium\",\"low\",\"high\",\"medium\",\"high\",\"low\",\"medium\",\"medium\",\"high\",\"medium\",\"low\",\"medium\",\"high\",\"medium\",\"low\",\"low\",\"medium\",\"high\",\"medium\",\"high\",\"low\",\"medium\",\"high\",\"medium\",\"high\",\"low\",\"low\",\"medium\",\"high\",\"medium\",\"high\",\"medium\",\"low\",\"low\",\"low\",\"medium\",\"high\",\"medium\",\"low\",\"high\",\"medium\",\"high\",\"low\",\"medium\",\"low\",\"high\",\"medium\",\"low\",\"medium\",\"high\",\"medium\",\"low\",\"low\",\"high\",\"low\",\"medium\",\"low\",\"high\",\"medium\",\"low\",\"high\",\"low\",\"medium\",\"medium\",\"high\",\"low\",\"medium\",\"high\",\"low\",\"medium\",\"low\",\"medium\",\"high\",\"low\",\"high\",\"low\",\"low\",\"high\",\"medium\",\"low\",\"high\",\"low\",\"medium\",\"high\",\"medium\",\"low\",\"high\",\"low\",\"high\",\"medium\",\"low\",\"medium\",\"high\",\"medium\",\"high\",\"low\",\"medium\",\"low\",\"medium\",\"high\",\"medium\",\"low\",\"low\",\"low\",\"medium\",\"medium\",\"high\",\"low\",\"medium\",\"low\",\"medium\",\"medium\",\"low\",\"low\",\"medium\",\"low\",\"high\",\"low\",\"low\",\"medium\",\"high\",\"medium\",\"low\",\"low\",\"high\",\"medium\",\"medium\",\"high\",\"high\",\"low\",\"medium\",\"high\",\"low\",\"low\",\"low\",\"medium\",\"medium\",\"low\",\"low\",\"medium\",\"low\",\"medium\",\"high\",\"medium\",\"low\",\"high\",\"medium\",\"high\",\"low\",\"medium\",\"medium\",\"high\",\"medium\",\"low\",\"high\",\"high\",\"medium\",\"low\",\"low\",\"medium\",\"high\",\"low\",\"high\",\"low\",\"medium\",\"low\",\"medium\",\"high\",\"low\",\"high\",\"low\",\"low\",\"high\",\"medium\",\"low\",\"low\",\"low\",\"medium\",\"high\",\"medium\",\"low\",\"high\",\"medium\",\"high\",\"low\",\"medium\",\"medium\",\"high\",\"medium\",\"low\",\"medium\",\"high\",\"medium\",\"high\",\"low\",\"medium\",\"low\",\"medium\",\"high\",\"medium\",\"low\",\"low\",\"low\",\"medium\",\"medium\",\"low\",\"low\",\"medium\",\"high\",\"medium\",\"high\",\"medium\",\"low\",\"low\",\"low\",\"medium\",\"high\",\"medium\",\"low\",\"high\",\"medium\",\"high\",\"low\",\"medium\",\"low\",\"high\",\"medium\",\"low\",\"medium\",\"high\",\"medium\",\"low\",\"low\",\"high\",\"low\",\"medium\",\"low\",\"high\",\"medium\",\"low\",\"high\",\"low\",\"medium\",\"medium\",\"high\",\"low\",\"medium\",\"high\",\"low\",\"medium\",\"low\",\"medium\",\"high\",\"low\",\"high\",\"low\"],\"xaxis\":\"x\",\"yaxis\":\"y\",\"type\":\"histogram\"}],                        {\"template\":{\"data\":{\"histogram2dcontour\":[{\"type\":\"histogram2dcontour\",\"colorbar\":{\"outlinewidth\":0,\"ticks\":\"\"},\"colorscale\":[[0.0,\"#0d0887\"],[0.1111111111111111,\"#46039f\"],[0.2222222222222222,\"#7201a8\"],[0.3333333333333333,\"#9c179e\"],[0.4444444444444444,\"#bd3786\"],[0.5555555555555556,\"#d8576b\"],[0.6666666666666666,\"#ed7953\"],[0.7777777777777778,\"#fb9f3a\"],[0.8888888888888888,\"#fdca26\"],[1.0,\"#f0f921\"]]}],\"choropleth\":[{\"type\":\"choropleth\",\"colorbar\":{\"outlinewidth\":0,\"ticks\":\"\"}}],\"histogram2d\":[{\"type\":\"histogram2d\",\"colorbar\":{\"outlinewidth\":0,\"ticks\":\"\"},\"colorscale\":[[0.0,\"#0d0887\"],[0.1111111111111111,\"#46039f\"],[0.2222222222222222,\"#7201a8\"],[0.3333333333333333,\"#9c179e\"],[0.4444444444444444,\"#bd3786\"],[0.5555555555555556,\"#d8576b\"],[0.6666666666666666,\"#ed7953\"],[0.7777777777777778,\"#fb9f3a\"],[0.8888888888888888,\"#fdca26\"],[1.0,\"#f0f921\"]]}],\"heatmap\":[{\"type\":\"heatmap\",\"colorbar\":{\"outlinewidth\":0,\"ticks\":\"\"},\"colorscale\":[[0.0,\"#0d0887\"],[0.1111111111111111,\"#46039f\"],[0.2222222222222222,\"#7201a8\"],[0.3333333333333333,\"#9c179e\"],[0.4444444444444444,\"#bd3786\"],[0.5555555555555556,\"#d8576b\"],[0.6666666666666666,\"#ed7953\"],[0.7777777777777778,\"#fb9f3a\"],[0.8888888888888888,\"#fdca26\"],[1.0,\"#f0f921\"]]}],\"heatmapgl\":[{\"type\":\"heatmapgl\",\"colorbar\":{\"outlinewidth\":0,\"ticks\":\"\"},\"colorscale\":[[0.0,\"#0d0887\"],[0.1111111111111111,\"#46039f\"],[0.2222222222222222,\"#7201a8\"],[0.3333333333333333,\"#9c179e\"],[0.4444444444444444,\"#bd3786\"],[0.5555555555555556,\"#d8576b\"],[0.6666666666666666,\"#ed7953\"],[0.7777777777777778,\"#fb9f3a\"],[0.8888888888888888,\"#fdca26\"],[1.0,\"#f0f921\"]]}],\"contourcarpet\":[{\"type\":\"contourcarpet\",\"colorbar\":{\"outlinewidth\":0,\"ticks\":\"\"}}],\"contour\":[{\"type\":\"contour\",\"colorbar\":{\"outlinewidth\":0,\"ticks\":\"\"},\"colorscale\":[[0.0,\"#0d0887\"],[0.1111111111111111,\"#46039f\"],[0.2222222222222222,\"#7201a8\"],[0.3333333333333333,\"#9c179e\"],[0.4444444444444444,\"#bd3786\"],[0.5555555555555556,\"#d8576b\"],[0.6666666666666666,\"#ed7953\"],[0.7777777777777778,\"#fb9f3a\"],[0.8888888888888888,\"#fdca26\"],[1.0,\"#f0f921\"]]}],\"surface\":[{\"type\":\"surface\",\"colorbar\":{\"outlinewidth\":0,\"ticks\":\"\"},\"colorscale\":[[0.0,\"#0d0887\"],[0.1111111111111111,\"#46039f\"],[0.2222222222222222,\"#7201a8\"],[0.3333333333333333,\"#9c179e\"],[0.4444444444444444,\"#bd3786\"],[0.5555555555555556,\"#d8576b\"],[0.6666666666666666,\"#ed7953\"],[0.7777777777777778,\"#fb9f3a\"],[0.8888888888888888,\"#fdca26\"],[1.0,\"#f0f921\"]]}],\"mesh3d\":[{\"type\":\"mesh3d\",\"colorbar\":{\"outlinewidth\":0,\"ticks\":\"\"}}],\"scatter\":[{\"fillpattern\":{\"fillmode\":\"overlay\",\"size\":10,\"solidity\":0.2},\"type\":\"scatter\"}],\"parcoords\":[{\"type\":\"parcoords\",\"line\":{\"colorbar\":{\"outlinewidth\":0,\"ticks\":\"\"}}}],\"scatterpolargl\":[{\"type\":\"scatterpolargl\",\"marker\":{\"colorbar\":{\"outlinewidth\":0,\"ticks\":\"\"}}}],\"bar\":[{\"error_x\":{\"color\":\"#2a3f5f\"},\"error_y\":{\"color\":\"#2a3f5f\"},\"marker\":{\"line\":{\"color\":\"#E5ECF6\",\"width\":0.5},\"pattern\":{\"fillmode\":\"overlay\",\"size\":10,\"solidity\":0.2}},\"type\":\"bar\"}],\"scattergeo\":[{\"type\":\"scattergeo\",\"marker\":{\"colorbar\":{\"outlinewidth\":0,\"ticks\":\"\"}}}],\"scatterpolar\":[{\"type\":\"scatterpolar\",\"marker\":{\"colorbar\":{\"outlinewidth\":0,\"ticks\":\"\"}}}],\"histogram\":[{\"marker\":{\"pattern\":{\"fillmode\":\"overlay\",\"size\":10,\"solidity\":0.2}},\"type\":\"histogram\"}],\"scattergl\":[{\"type\":\"scattergl\",\"marker\":{\"colorbar\":{\"outlinewidth\":0,\"ticks\":\"\"}}}],\"scatter3d\":[{\"type\":\"scatter3d\",\"line\":{\"colorbar\":{\"outlinewidth\":0,\"ticks\":\"\"}},\"marker\":{\"colorbar\":{\"outlinewidth\":0,\"ticks\":\"\"}}}],\"scattermapbox\":[{\"type\":\"scattermapbox\",\"marker\":{\"colorbar\":{\"outlinewidth\":0,\"ticks\":\"\"}}}],\"scatterternary\":[{\"type\":\"scatterternary\",\"marker\":{\"colorbar\":{\"outlinewidth\":0,\"ticks\":\"\"}}}],\"scattercarpet\":[{\"type\":\"scattercarpet\",\"marker\":{\"colorbar\":{\"outlinewidth\":0,\"ticks\":\"\"}}}],\"carpet\":[{\"aaxis\":{\"endlinecolor\":\"#2a3f5f\",\"gridcolor\":\"white\",\"linecolor\":\"white\",\"minorgridcolor\":\"white\",\"startlinecolor\":\"#2a3f5f\"},\"baxis\":{\"endlinecolor\":\"#2a3f5f\",\"gridcolor\":\"white\",\"linecolor\":\"white\",\"minorgridcolor\":\"white\",\"startlinecolor\":\"#2a3f5f\"},\"type\":\"carpet\"}],\"table\":[{\"cells\":{\"fill\":{\"color\":\"#EBF0F8\"},\"line\":{\"color\":\"white\"}},\"header\":{\"fill\":{\"color\":\"#C8D4E3\"},\"line\":{\"color\":\"white\"}},\"type\":\"table\"}],\"barpolar\":[{\"marker\":{\"line\":{\"color\":\"#E5ECF6\",\"width\":0.5},\"pattern\":{\"fillmode\":\"overlay\",\"size\":10,\"solidity\":0.2}},\"type\":\"barpolar\"}],\"pie\":[{\"automargin\":true,\"type\":\"pie\"}]},\"layout\":{\"autotypenumbers\":\"strict\",\"colorway\":[\"#636efa\",\"#EF553B\",\"#00cc96\",\"#ab63fa\",\"#FFA15A\",\"#19d3f3\",\"#FF6692\",\"#B6E880\",\"#FF97FF\",\"#FECB52\"],\"font\":{\"color\":\"#2a3f5f\"},\"hovermode\":\"closest\",\"hoverlabel\":{\"align\":\"left\"},\"paper_bgcolor\":\"white\",\"plot_bgcolor\":\"#E5ECF6\",\"polar\":{\"bgcolor\":\"#E5ECF6\",\"angularaxis\":{\"gridcolor\":\"white\",\"linecolor\":\"white\",\"ticks\":\"\"},\"radialaxis\":{\"gridcolor\":\"white\",\"linecolor\":\"white\",\"ticks\":\"\"}},\"ternary\":{\"bgcolor\":\"#E5ECF6\",\"aaxis\":{\"gridcolor\":\"white\",\"linecolor\":\"white\",\"ticks\":\"\"},\"baxis\":{\"gridcolor\":\"white\",\"linecolor\":\"white\",\"ticks\":\"\"},\"caxis\":{\"gridcolor\":\"white\",\"linecolor\":\"white\",\"ticks\":\"\"}},\"coloraxis\":{\"colorbar\":{\"outlinewidth\":0,\"ticks\":\"\"}},\"colorscale\":{\"sequential\":[[0.0,\"#0d0887\"],[0.1111111111111111,\"#46039f\"],[0.2222222222222222,\"#7201a8\"],[0.3333333333333333,\"#9c179e\"],[0.4444444444444444,\"#bd3786\"],[0.5555555555555556,\"#d8576b\"],[0.6666666666666666,\"#ed7953\"],[0.7777777777777778,\"#fb9f3a\"],[0.8888888888888888,\"#fdca26\"],[1.0,\"#f0f921\"]],\"sequentialminus\":[[0.0,\"#0d0887\"],[0.1111111111111111,\"#46039f\"],[0.2222222222222222,\"#7201a8\"],[0.3333333333333333,\"#9c179e\"],[0.4444444444444444,\"#bd3786\"],[0.5555555555555556,\"#d8576b\"],[0.6666666666666666,\"#ed7953\"],[0.7777777777777778,\"#fb9f3a\"],[0.8888888888888888,\"#fdca26\"],[1.0,\"#f0f921\"]],\"diverging\":[[0,\"#8e0152\"],[0.1,\"#c51b7d\"],[0.2,\"#de77ae\"],[0.3,\"#f1b6da\"],[0.4,\"#fde0ef\"],[0.5,\"#f7f7f7\"],[0.6,\"#e6f5d0\"],[0.7,\"#b8e186\"],[0.8,\"#7fbc41\"],[0.9,\"#4d9221\"],[1,\"#276419\"]]},\"xaxis\":{\"gridcolor\":\"white\",\"linecolor\":\"white\",\"ticks\":\"\",\"title\":{\"standoff\":15},\"zerolinecolor\":\"white\",\"automargin\":true,\"zerolinewidth\":2},\"yaxis\":{\"gridcolor\":\"white\",\"linecolor\":\"white\",\"ticks\":\"\",\"title\":{\"standoff\":15},\"zerolinecolor\":\"white\",\"automargin\":true,\"zerolinewidth\":2},\"scene\":{\"xaxis\":{\"backgroundcolor\":\"#E5ECF6\",\"gridcolor\":\"white\",\"linecolor\":\"white\",\"showbackground\":true,\"ticks\":\"\",\"zerolinecolor\":\"white\",\"gridwidth\":2},\"yaxis\":{\"backgroundcolor\":\"#E5ECF6\",\"gridcolor\":\"white\",\"linecolor\":\"white\",\"showbackground\":true,\"ticks\":\"\",\"zerolinecolor\":\"white\",\"gridwidth\":2},\"zaxis\":{\"backgroundcolor\":\"#E5ECF6\",\"gridcolor\":\"white\",\"linecolor\":\"white\",\"showbackground\":true,\"ticks\":\"\",\"zerolinecolor\":\"white\",\"gridwidth\":2}},\"shapedefaults\":{\"line\":{\"color\":\"#2a3f5f\"}},\"annotationdefaults\":{\"arrowcolor\":\"#2a3f5f\",\"arrowhead\":0,\"arrowwidth\":1},\"geo\":{\"bgcolor\":\"white\",\"landcolor\":\"#E5ECF6\",\"subunitcolor\":\"white\",\"showland\":true,\"showlakes\":true,\"lakecolor\":\"white\"},\"title\":{\"x\":0.05},\"mapbox\":{\"style\":\"light\"}}},\"xaxis\":{\"anchor\":\"y\",\"domain\":[0.0,1.0],\"title\":{\"text\":\"Grade\"}},\"yaxis\":{\"anchor\":\"x\",\"domain\":[0.0,1.0],\"title\":{\"text\":\"count\"}},\"legend\":{\"tracegroupgap\":0},\"margin\":{\"t\":60},\"barmode\":\"relative\",\"title\":{\"text\":\"\\u003cb\\u003eMilky\\u003c\\u002fb\\u003e\",\"x\":0.5}},                        {\"responsive\": true}                    ).then(function(){\n",
              "                            \n",
              "var gd = document.getElementById('9e663e51-50b1-44fe-b89b-0027072411b7');\n",
              "var x = new MutationObserver(function (mutations, observer) {{\n",
              "        var display = window.getComputedStyle(gd).display;\n",
              "        if (!display || display === 'none') {{\n",
              "            console.log([gd, 'removed!']);\n",
              "            Plotly.purge(gd);\n",
              "            observer.disconnect();\n",
              "        }}\n",
              "}});\n",
              "\n",
              "// Listen for the removal of the full notebook cells\n",
              "var notebookContainer = gd.closest('#notebook-container');\n",
              "if (notebookContainer) {{\n",
              "    x.observe(notebookContainer, {childList: true});\n",
              "}}\n",
              "\n",
              "// Listen for the clearing of the current output cell\n",
              "var outputEl = gd.closest('.output');\n",
              "if (outputEl) {{\n",
              "    x.observe(outputEl, {childList: true});\n",
              "}}\n",
              "\n",
              "                        })                };                            </script>        </div>\n",
              "</body>\n",
              "</html>"
            ]
          },
          "metadata": {}
        }
      ]
    },
    {
      "cell_type": "code",
      "source": [
        "X = df.drop(\"Grade\",axis=1)\n",
        "y = pd.get_dummies(df['Grade'])"
      ],
      "metadata": {
        "id": "de9lVt8uhtZr"
      },
      "execution_count": 41,
      "outputs": []
    },
    {
      "cell_type": "code",
      "source": [
        "scaler = StandardScaler()\n",
        "X_scaled = scaler.fit_transform(X)\n",
        "X_scaled.shape"
      ],
      "metadata": {
        "colab": {
          "base_uri": "https://localhost:8080/"
        },
        "id": "q5HXb8Djicu3",
        "outputId": "d5e0a199-e3f9-4df9-88b9-aa713afd1a2f"
      },
      "execution_count": 42,
      "outputs": [
        {
          "output_type": "execute_result",
          "data": {
            "text/plain": [
              "(1059, 7)"
            ]
          },
          "metadata": {},
          "execution_count": 42
        }
      ]
    },
    {
      "cell_type": "code",
      "source": [
        "X_train, X_test, y_train, y_test = train_test_split(X, y, train_size=0.9, shuffle=True, random_state=42)"
      ],
      "metadata": {
        "id": "Achs-jncieFe"
      },
      "execution_count": 43,
      "outputs": []
    },
    {
      "cell_type": "code",
      "source": [
        "X_train.shape"
      ],
      "metadata": {
        "colab": {
          "base_uri": "https://localhost:8080/"
        },
        "id": "1jLG3lOkiiY1",
        "outputId": "f13e9189-be64-4100-a770-8f8abff78461"
      },
      "execution_count": 44,
      "outputs": [
        {
          "output_type": "execute_result",
          "data": {
            "text/plain": [
              "(953, 7)"
            ]
          },
          "metadata": {},
          "execution_count": 44
        }
      ]
    },
    {
      "cell_type": "code",
      "source": [
        "model = Sequential()\n",
        "\n",
        "model.add(Dense(8, activation='relu', input_shape= X_train.shape[1:]))\n",
        "model.add(Dense(16, activation='relu'))\n",
        "model.add(Dense(3, activation='softmax'))"
      ],
      "metadata": {
        "id": "MQhAm1puikB_"
      },
      "execution_count": 45,
      "outputs": []
    },
    {
      "cell_type": "code",
      "source": [
        "model.compile(optimizer='Adam', loss='binary_crossentropy', metrics=['accuracy'])"
      ],
      "metadata": {
        "id": "3tZkrYnjimEZ"
      },
      "execution_count": 46,
      "outputs": []
    },
    {
      "cell_type": "code",
      "source": [
        "model.summary()"
      ],
      "metadata": {
        "colab": {
          "base_uri": "https://localhost:8080/"
        },
        "id": "KPR4nWtXinpD",
        "outputId": "ff74157c-3769-41b6-8b55-26f2d161d49d"
      },
      "execution_count": 47,
      "outputs": [
        {
          "output_type": "stream",
          "name": "stdout",
          "text": [
            "Model: \"sequential_2\"\n",
            "_________________________________________________________________\n",
            " Layer (type)                Output Shape              Param #   \n",
            "=================================================================\n",
            " dense_6 (Dense)             (None, 8)                 64        \n",
            "                                                                 \n",
            " dense_7 (Dense)             (None, 16)                144       \n",
            "                                                                 \n",
            " dense_8 (Dense)             (None, 3)                 51        \n",
            "                                                                 \n",
            "=================================================================\n",
            "Total params: 259 (1.01 KB)\n",
            "Trainable params: 259 (1.01 KB)\n",
            "Non-trainable params: 0 (0.00 Byte)\n",
            "_________________________________________________________________\n"
          ]
        }
      ]
    },
    {
      "cell_type": "code",
      "source": [
        "model.compile(loss=\"categorical_crossentropy\",metrics=\"accuracy\",optimizer=\"rmsprop\")\n",
        "early_stop = keras.callbacks.EarlyStopping(patience=20)\n",
        "history = model.fit(X_train,y_train,validation_data=(X_test,y_test),epochs=50,callbacks=early_stop)"
      ],
      "metadata": {
        "colab": {
          "base_uri": "https://localhost:8080/"
        },
        "id": "mzYK0hR_ipYQ",
        "outputId": "f6c4060f-1889-4030-ce8b-febf3cd2df85"
      },
      "execution_count": 50,
      "outputs": [
        {
          "output_type": "stream",
          "name": "stdout",
          "text": [
            "Epoch 1/50\n",
            "30/30 [==============================] - 3s 30ms/step - loss: 0.8554 - accuracy: 0.5971 - val_loss: 0.8315 - val_accuracy: 0.5377\n",
            "Epoch 2/50\n",
            "30/30 [==============================] - 0s 5ms/step - loss: 0.8160 - accuracy: 0.6044 - val_loss: 0.7879 - val_accuracy: 0.7075\n",
            "Epoch 3/50\n",
            "30/30 [==============================] - 0s 4ms/step - loss: 0.8151 - accuracy: 0.6034 - val_loss: 0.7942 - val_accuracy: 0.6698\n",
            "Epoch 4/50\n",
            "30/30 [==============================] - 0s 5ms/step - loss: 0.8039 - accuracy: 0.5929 - val_loss: 0.8217 - val_accuracy: 0.5377\n",
            "Epoch 5/50\n",
            "30/30 [==============================] - 0s 4ms/step - loss: 0.7850 - accuracy: 0.6222 - val_loss: 0.7706 - val_accuracy: 0.6226\n",
            "Epoch 6/50\n",
            "30/30 [==============================] - 0s 4ms/step - loss: 0.7696 - accuracy: 0.6411 - val_loss: 0.7588 - val_accuracy: 0.6509\n",
            "Epoch 7/50\n",
            "30/30 [==============================] - 0s 4ms/step - loss: 0.7763 - accuracy: 0.6191 - val_loss: 0.7348 - val_accuracy: 0.6604\n",
            "Epoch 8/50\n",
            "30/30 [==============================] - 0s 4ms/step - loss: 0.7498 - accuracy: 0.6527 - val_loss: 0.7607 - val_accuracy: 0.6792\n",
            "Epoch 9/50\n",
            "30/30 [==============================] - 0s 4ms/step - loss: 0.7604 - accuracy: 0.6506 - val_loss: 0.7221 - val_accuracy: 0.7453\n",
            "Epoch 10/50\n",
            "30/30 [==============================] - 0s 5ms/step - loss: 0.7321 - accuracy: 0.6663 - val_loss: 0.8458 - val_accuracy: 0.5472\n",
            "Epoch 11/50\n",
            "30/30 [==============================] - 0s 5ms/step - loss: 0.7149 - accuracy: 0.6663 - val_loss: 0.7236 - val_accuracy: 0.6604\n",
            "Epoch 12/50\n",
            "30/30 [==============================] - 0s 5ms/step - loss: 0.7308 - accuracy: 0.6558 - val_loss: 0.7523 - val_accuracy: 0.6415\n",
            "Epoch 13/50\n",
            "30/30 [==============================] - 0s 4ms/step - loss: 0.7159 - accuracy: 0.6779 - val_loss: 0.7416 - val_accuracy: 0.6415\n",
            "Epoch 14/50\n",
            "30/30 [==============================] - 0s 4ms/step - loss: 0.7003 - accuracy: 0.6925 - val_loss: 0.6999 - val_accuracy: 0.6792\n",
            "Epoch 15/50\n",
            "30/30 [==============================] - 0s 4ms/step - loss: 0.6805 - accuracy: 0.7114 - val_loss: 0.8375 - val_accuracy: 0.5377\n",
            "Epoch 16/50\n",
            "30/30 [==============================] - 0s 4ms/step - loss: 0.6800 - accuracy: 0.7062 - val_loss: 0.6783 - val_accuracy: 0.7642\n",
            "Epoch 17/50\n",
            "30/30 [==============================] - 0s 3ms/step - loss: 0.6692 - accuracy: 0.7167 - val_loss: 0.7007 - val_accuracy: 0.7830\n",
            "Epoch 18/50\n",
            "30/30 [==============================] - 0s 3ms/step - loss: 0.6598 - accuracy: 0.7051 - val_loss: 0.6496 - val_accuracy: 0.6792\n",
            "Epoch 19/50\n",
            "30/30 [==============================] - 0s 4ms/step - loss: 0.6638 - accuracy: 0.6946 - val_loss: 0.6928 - val_accuracy: 0.6321\n",
            "Epoch 20/50\n",
            "30/30 [==============================] - 0s 3ms/step - loss: 0.6569 - accuracy: 0.6967 - val_loss: 0.6751 - val_accuracy: 0.6509\n",
            "Epoch 21/50\n",
            "30/30 [==============================] - 0s 2ms/step - loss: 0.6295 - accuracy: 0.7240 - val_loss: 0.6999 - val_accuracy: 0.7075\n",
            "Epoch 22/50\n",
            "30/30 [==============================] - 0s 3ms/step - loss: 0.6475 - accuracy: 0.7146 - val_loss: 0.6294 - val_accuracy: 0.8113\n",
            "Epoch 23/50\n",
            "30/30 [==============================] - 0s 3ms/step - loss: 0.6132 - accuracy: 0.7377 - val_loss: 0.7019 - val_accuracy: 0.6321\n",
            "Epoch 24/50\n",
            "30/30 [==============================] - 0s 3ms/step - loss: 0.6161 - accuracy: 0.7450 - val_loss: 0.6165 - val_accuracy: 0.6981\n",
            "Epoch 25/50\n",
            "30/30 [==============================] - 0s 2ms/step - loss: 0.5959 - accuracy: 0.7366 - val_loss: 0.6417 - val_accuracy: 0.7925\n",
            "Epoch 26/50\n",
            "30/30 [==============================] - 0s 3ms/step - loss: 0.6062 - accuracy: 0.7377 - val_loss: 0.6457 - val_accuracy: 0.7170\n",
            "Epoch 27/50\n",
            "30/30 [==============================] - 0s 3ms/step - loss: 0.5774 - accuracy: 0.7545 - val_loss: 0.6071 - val_accuracy: 0.6981\n",
            "Epoch 28/50\n",
            "30/30 [==============================] - 0s 3ms/step - loss: 0.5826 - accuracy: 0.7345 - val_loss: 0.5912 - val_accuracy: 0.8113\n",
            "Epoch 29/50\n",
            "30/30 [==============================] - 0s 4ms/step - loss: 0.5563 - accuracy: 0.7524 - val_loss: 0.6589 - val_accuracy: 0.7170\n",
            "Epoch 30/50\n",
            "30/30 [==============================] - 0s 3ms/step - loss: 0.5616 - accuracy: 0.7555 - val_loss: 0.6039 - val_accuracy: 0.7358\n",
            "Epoch 31/50\n",
            "30/30 [==============================] - 0s 4ms/step - loss: 0.5736 - accuracy: 0.7482 - val_loss: 0.6272 - val_accuracy: 0.7547\n",
            "Epoch 32/50\n",
            "30/30 [==============================] - 0s 3ms/step - loss: 0.5579 - accuracy: 0.7545 - val_loss: 0.5594 - val_accuracy: 0.7925\n",
            "Epoch 33/50\n",
            "30/30 [==============================] - 0s 3ms/step - loss: 0.5405 - accuracy: 0.7733 - val_loss: 0.5672 - val_accuracy: 0.7925\n",
            "Epoch 34/50\n",
            "30/30 [==============================] - 0s 3ms/step - loss: 0.5303 - accuracy: 0.7723 - val_loss: 0.5785 - val_accuracy: 0.6792\n",
            "Epoch 35/50\n",
            "30/30 [==============================] - 0s 3ms/step - loss: 0.5490 - accuracy: 0.7566 - val_loss: 0.5844 - val_accuracy: 0.7642\n",
            "Epoch 36/50\n",
            "30/30 [==============================] - 0s 3ms/step - loss: 0.5108 - accuracy: 0.7891 - val_loss: 0.5303 - val_accuracy: 0.7736\n",
            "Epoch 37/50\n",
            "30/30 [==============================] - 0s 3ms/step - loss: 0.5204 - accuracy: 0.7828 - val_loss: 0.5246 - val_accuracy: 0.7830\n",
            "Epoch 38/50\n",
            "30/30 [==============================] - 0s 3ms/step - loss: 0.5148 - accuracy: 0.7880 - val_loss: 0.5384 - val_accuracy: 0.8208\n",
            "Epoch 39/50\n",
            "30/30 [==============================] - 0s 3ms/step - loss: 0.5066 - accuracy: 0.7796 - val_loss: 0.5257 - val_accuracy: 0.7830\n",
            "Epoch 40/50\n",
            "30/30 [==============================] - 0s 3ms/step - loss: 0.4984 - accuracy: 0.7880 - val_loss: 0.5405 - val_accuracy: 0.7170\n",
            "Epoch 41/50\n",
            "30/30 [==============================] - 0s 3ms/step - loss: 0.5008 - accuracy: 0.7922 - val_loss: 0.5288 - val_accuracy: 0.7547\n",
            "Epoch 42/50\n",
            "30/30 [==============================] - 0s 3ms/step - loss: 0.4931 - accuracy: 0.7901 - val_loss: 0.5969 - val_accuracy: 0.7736\n",
            "Epoch 43/50\n",
            "30/30 [==============================] - 0s 3ms/step - loss: 0.4894 - accuracy: 0.7964 - val_loss: 0.4944 - val_accuracy: 0.8396\n",
            "Epoch 44/50\n",
            "30/30 [==============================] - 0s 3ms/step - loss: 0.4804 - accuracy: 0.7943 - val_loss: 0.4786 - val_accuracy: 0.8208\n",
            "Epoch 45/50\n",
            "30/30 [==============================] - 0s 3ms/step - loss: 0.4801 - accuracy: 0.7922 - val_loss: 0.4843 - val_accuracy: 0.7736\n",
            "Epoch 46/50\n",
            "30/30 [==============================] - 0s 3ms/step - loss: 0.4678 - accuracy: 0.8017 - val_loss: 0.4814 - val_accuracy: 0.7264\n",
            "Epoch 47/50\n",
            "30/30 [==============================] - 0s 3ms/step - loss: 0.4839 - accuracy: 0.7786 - val_loss: 0.5034 - val_accuracy: 0.7642\n",
            "Epoch 48/50\n",
            "30/30 [==============================] - 0s 3ms/step - loss: 0.4592 - accuracy: 0.8132 - val_loss: 0.4785 - val_accuracy: 0.7736\n",
            "Epoch 49/50\n",
            "30/30 [==============================] - 0s 3ms/step - loss: 0.4534 - accuracy: 0.8038 - val_loss: 0.4655 - val_accuracy: 0.8491\n",
            "Epoch 50/50\n",
            "30/30 [==============================] - 0s 3ms/step - loss: 0.4616 - accuracy: 0.8038 - val_loss: 0.5114 - val_accuracy: 0.7547\n"
          ]
        }
      ]
    },
    {
      "cell_type": "code",
      "source": [
        "history_df = pd.DataFrame(history.history)\n",
        "plt.plot(history_df.accuracy,label=\"Accuracy\")\n",
        "plt.plot(history_df.val_accuracy,label=\"Validation Accuracy\")\n",
        "plt.xlabel(\"Epochs\")\n",
        "plt.ylabel(\"Accuracy\")\n",
        "plt.legend()\n",
        "plt.grid()"
      ],
      "metadata": {
        "colab": {
          "base_uri": "https://localhost:8080/",
          "height": 449
        },
        "id": "ljDrRCqri800",
        "outputId": "be12715f-84e7-488e-bc5b-c2903bafe9e5"
      },
      "execution_count": 51,
      "outputs": [
        {
          "output_type": "display_data",
          "data": {
            "text/plain": [
              "<Figure size 640x480 with 1 Axes>"
            ],
            "image/png": "[encoded data removed]"
          },
          "metadata": {}
        }
      ]
    },
    {
      "cell_type": "code",
      "source": [
        "history_df = pd.DataFrame(history.history)\n",
        "plt.plot(history_df.loss,label=\"Loss\")\n",
        "plt.plot(history_df.val_loss,label=\"Validation Loss\")\n",
        "plt.xlabel(\"Epochs\")\n",
        "plt.ylabel(\"Accuracy\")\n",
        "plt.legend()\n",
        "plt.grid()"
      ],
      "metadata": {
        "colab": {
          "base_uri": "https://localhost:8080/",
          "height": 449
        },
        "id": "RahapHiAi8zG",
        "outputId": "54a1530b-7fc1-47b4-99f9-ec4fa5aafd18"
      },
      "execution_count": 52,
      "outputs": [
        {
          "output_type": "display_data",
          "data": {
            "text/plain": [
              "<Figure size 640x480 with 1 Axes>"
            ],
            "image/png": "[encoded data removed]"
          },
          "metadata": {}
        }
      ]
    },
    {
      "cell_type": "code",
      "source": [
        "y_pred =model.predict(X_test)\n",
        "y_pred = (y_pred>0.5)"
      ],
      "metadata": {
        "colab": {
          "base_uri": "https://localhost:8080/"
        },
        "id": "e0krfdLii-gC",
        "outputId": "44809ce7-89ee-4235-e2d4-ba99c4e30fb0"
      },
      "execution_count": 53,
      "outputs": [
        {
          "output_type": "stream",
          "name": "stdout",
          "text": [
            "4/4 [==============================] - 0s 3ms/step\n"
          ]
        }
      ]
    },
    {
      "cell_type": "code",
      "source": [
        "accuracy = accuracy_score(y_test,y_pred)\n",
        "print('Accuracy:', accuracy)"
      ],
      "metadata": {
        "colab": {
          "base_uri": "https://localhost:8080/"
        },
        "id": "DSdSY5_4jBa0",
        "outputId": "ee8e8048-f348-4216-a7aa-402cfc714475"
      },
      "execution_count": 54,
      "outputs": [
        {
          "output_type": "stream",
          "name": "stdout",
          "text": [
            "Accuracy: 0.7452830188679245\n"
          ]
        }
      ]
    },
    {
      "cell_type": "code",
      "source": [
        "model.save('./Milky.h5')"
      ],
      "metadata": {
        "id": "K9LSpvXGjVJv",
        "outputId": "546858be-6d0a-401a-c393-06512e50065c",
        "colab": {
          "base_uri": "https://localhost:8080/"
        }
      },
      "execution_count": 55,
      "outputs": [
        {
          "output_type": "stream",
          "name": "stderr",
          "text": [
            "/usr/local/lib/python3.10/dist-packages/keras/src/engine/training.py:3103: UserWarning:\n",
            "\n",
            "You are saving your model as an HDF5 file via `model.save()`. This file format is considered legacy. We recommend using instead the native Keras format, e.g. `model.save('my_model.keras')`.\n",
            "\n"
          ]
        }
      ]
    },
    {
      "cell_type": "code",
      "source": [
        "model = tf.keras.models.load_model('./Milky.h5')\n",
        "converter = tf.lite.TFLiteConverter.from_keras_model(model)\n",
        "converter.optimizations = [tf.lite.Optimize.DEFAULT]\n",
        "tflite_model = converter.convert()\n",
        "open(\"./Milky.tflite\", \"wb\").write(tflite_model)"
      ],
      "metadata": {
        "id": "Qheo6XerjYDr",
        "outputId": "b66d119f-5989-4755-f03e-0a7b98c2d740",
        "colab": {
          "base_uri": "https://localhost:8080/"
        }
      },
      "execution_count": 56,
      "outputs": [
        {
          "output_type": "execute_result",
          "data": {
            "text/plain": [
              "3164"
            ]
          },
          "metadata": {},
          "execution_count": 56
        }
      ]
    }
  ]
}